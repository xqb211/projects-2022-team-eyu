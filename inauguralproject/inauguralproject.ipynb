{
 "cells": [
  {
   "cell_type": "markdown",
   "metadata": {},
   "source": [
    "# Inaugural Project"
   ]
  },
  {
   "cell_type": "markdown",
   "metadata": {},
   "source": [
    "> **Note the following:** \n",
    "> 1. This is an example of how to structure your **inaugural project**.\n",
    "> 1. Remember the general advice on structuring and commenting your code from [lecture 5](https://numeconcopenhagen.netlify.com/lectures/Workflow_and_debugging).\n",
    "> 1. Remember this [guide](https://www.markdownguide.org/basic-syntax/) on markdown and (a bit of) latex.\n",
    "> 1. Turn on automatic numbering by clicking on the small icon on top of the table of contents in the left sidebar.\n",
    "> 1. The `inauguralproject.py` file includes a function which can be used multiple times in this notebook."
   ]
  },
  {
   "cell_type": "markdown",
   "metadata": {},
   "source": [
    "Imports and set magics:"
   ]
  },
  {
   "cell_type": "code",
   "execution_count": 3,
   "metadata": {},
   "outputs": [
    {
     "name": "stdout",
     "output_type": "stream",
     "text": [
      "The autoreload extension is already loaded. To reload it, use:\n",
      "  %reload_ext autoreload\n"
     ]
    }
   ],
   "source": [
    "import numpy as np\n",
    "\n",
    "# autoreload modules when code is run. Otherwise, python will not see recent changes. \n",
    "%load_ext autoreload\n",
    "%autoreload 2\n",
    "\n",
    "# Import your own code\n",
    "import inauguralproject\n",
    "from scipy import optimize"
   ]
  },
  {
   "cell_type": "markdown",
   "metadata": {},
   "source": [
    "# Question 1"
   ]
  },
  {
   "cell_type": "markdown",
   "metadata": {},
   "source": [
    "In this question we are asked to find the optimal coverage amount of the agent.\n",
    "We do this following this approach:\n",
    "- define the utility function of the agent\n",
    "- maximize the utility function with the given parametrization using loops\n",
    "    - problem: q* depends on x, so use for loop within for loop"
   ]
  },
  {
   "cell_type": "code",
   "execution_count": 2,
   "metadata": {},
   "outputs": [
    {
     "name": "stdout",
     "output_type": "stream",
     "text": [
      "best with loop is           -1.11111111 at q = 0.50000000\n",
      "want to insure 100% of loss as risk averse\n",
      "best with loop for x = 0.01000000 is -1.00200401 at q = 0.01000000\n",
      "best with loop for x = 0.01898990 is -1.00381246 at q = 0.01898990\n",
      "best with loop for x = 0.02797980 is -1.00562745 at q = 0.02797980\n",
      "best with loop for x = 0.03696970 is -1.00744902 at q = 0.03696970\n",
      "best with loop for x = 0.04595960 is -1.00927719 at q = 0.04595960\n",
      "best with loop for x = 0.05494949 is -1.01111202 at q = 0.05494949\n",
      "best with loop for x = 0.06393939 is -1.01295353 at q = 0.06393939\n",
      "best with loop for x = 0.07292929 is -1.01480175 at q = 0.07292929\n",
      "best with loop for x = 0.08191919 is -1.01665674 at q = 0.08191919\n",
      "best with loop for x = 0.09090909 is -1.01851852 at q = 0.09090909\n",
      "best with loop for x = 0.09989899 is -1.02038713 at q = 0.09989899\n",
      "best with loop for x = 0.10888889 is -1.02226261 at q = 0.10888889\n",
      "best with loop for x = 0.11787879 is -1.02414499 at q = 0.11787879\n",
      "best with loop for x = 0.12686869 is -1.02603433 at q = 0.12686869\n",
      "best with loop for x = 0.13585859 is -1.02793064 at q = 0.13585859\n",
      "best with loop for x = 0.14484848 is -1.02983398 at q = 0.14484848\n",
      "best with loop for x = 0.15383838 is -1.03174438 at q = 0.15383838\n",
      "best with loop for x = 0.16282828 is -1.03366188 at q = 0.16282828\n",
      "best with loop for x = 0.17181818 is -1.03558652 at q = 0.17181818\n",
      "best with loop for x = 0.18080808 is -1.03751834 at q = 0.18080808\n",
      "best with loop for x = 0.18979798 is -1.03945738 at q = 0.18979798\n",
      "best with loop for x = 0.19878788 is -1.04140369 at q = 0.19878788\n",
      "best with loop for x = 0.20777778 is -1.04335729 at q = 0.20777778\n",
      "best with loop for x = 0.21676768 is -1.04531824 at q = 0.21676768\n",
      "best with loop for x = 0.22575758 is -1.04728658 at q = 0.22575758\n",
      "best with loop for x = 0.23474747 is -1.04926234 at q = 0.23474747\n",
      "best with loop for x = 0.24373737 is -1.05124557 at q = 0.24373737\n",
      "best with loop for x = 0.25272727 is -1.05323631 at q = 0.25272727\n",
      "best with loop for x = 0.26171717 is -1.05523460 at q = 0.26171717\n",
      "best with loop for x = 0.27070707 is -1.05724050 at q = 0.27070707\n",
      "best with loop for x = 0.27969697 is -1.05925403 at q = 0.27969697\n",
      "best with loop for x = 0.28868687 is -1.06127525 at q = 0.28868687\n",
      "best with loop for x = 0.29767677 is -1.06330419 at q = 0.29767677\n",
      "best with loop for x = 0.30666667 is -1.06534091 at q = 0.30666667\n",
      "best with loop for x = 0.31565657 is -1.06738544 at q = 0.31565657\n",
      "best with loop for x = 0.32464646 is -1.06943784 at q = 0.32464646\n",
      "best with loop for x = 0.33363636 is -1.07149815 at q = 0.33363636\n",
      "best with loop for x = 0.34262626 is -1.07356641 at q = 0.34262626\n",
      "best with loop for x = 0.35161616 is -1.07564267 at q = 0.35161616\n",
      "best with loop for x = 0.36060606 is -1.07772698 at q = 0.36060606\n",
      "best with loop for x = 0.36959596 is -1.07981938 at q = 0.36959596\n",
      "best with loop for x = 0.37858586 is -1.08191992 at q = 0.37858586\n",
      "best with loop for x = 0.38757576 is -1.08402864 at q = 0.38757576\n",
      "best with loop for x = 0.39656566 is -1.08614561 at q = 0.39656566\n",
      "best with loop for x = 0.40555556 is -1.08827086 at q = 0.40555556\n",
      "best with loop for x = 0.41454545 is -1.09040444 at q = 0.41454545\n",
      "best with loop for x = 0.42353535 is -1.09254641 at q = 0.42353535\n",
      "best with loop for x = 0.43252525 is -1.09469680 at q = 0.43252525\n",
      "best with loop for x = 0.44151515 is -1.09685568 at q = 0.44151515\n",
      "best with loop for x = 0.45050505 is -1.09902309 at q = 0.45050505\n",
      "best with loop for x = 0.45949495 is -1.10119908 at q = 0.45949495\n",
      "best with loop for x = 0.46848485 is -1.10338371 at q = 0.46848485\n",
      "best with loop for x = 0.47747475 is -1.10557702 at q = 0.47747475\n",
      "best with loop for x = 0.48646465 is -1.10777907 at q = 0.48646465\n",
      "best with loop for x = 0.49545455 is -1.10998991 at q = 0.49545455\n",
      "best with loop for x = 0.50444444 is -1.11220959 at q = 0.50444444\n",
      "best with loop for x = 0.51343434 is -1.11443817 at q = 0.51343434\n",
      "best with loop for x = 0.52242424 is -1.11667569 at q = 0.52242424\n",
      "best with loop for x = 0.53141414 is -1.11892222 at q = 0.53141414\n",
      "best with loop for x = 0.54040404 is -1.12117780 at q = 0.54040404\n",
      "best with loop for x = 0.54939394 is -1.12344250 at q = 0.54939394\n",
      "best with loop for x = 0.55838384 is -1.12571636 at q = 0.55838384\n",
      "best with loop for x = 0.56737374 is -1.12799945 at q = 0.56737374\n",
      "best with loop for x = 0.57636364 is -1.13029182 at q = 0.57636364\n",
      "best with loop for x = 0.58535354 is -1.13259352 at q = 0.58535354\n",
      "best with loop for x = 0.59434343 is -1.13490462 at q = 0.59434343\n",
      "best with loop for x = 0.60333333 is -1.13722517 at q = 0.60333333\n",
      "best with loop for x = 0.61232323 is -1.13955523 at q = 0.61232323\n",
      "best with loop for x = 0.62131313 is -1.14189485 at q = 0.62131313\n",
      "best with loop for x = 0.63030303 is -1.14424411 at q = 0.63030303\n",
      "best with loop for x = 0.63929293 is -1.14660304 at q = 0.63929293\n",
      "best with loop for x = 0.64828283 is -1.14897173 at q = 0.64828283\n",
      "best with loop for x = 0.65727273 is -1.15135022 at q = 0.65727273\n",
      "best with loop for x = 0.66626263 is -1.15373858 at q = 0.66626263\n",
      "best with loop for x = 0.67525253 is -1.15613687 at q = 0.67525253\n",
      "best with loop for x = 0.68424242 is -1.15854515 at q = 0.68424242\n",
      "best with loop for x = 0.69323232 is -1.16096348 at q = 0.69323232\n",
      "best with loop for x = 0.70222222 is -1.16339193 at q = 0.70222222\n",
      "best with loop for x = 0.71121212 is -1.16583057 at q = 0.71121212\n",
      "best with loop for x = 0.72020202 is -1.16827944 at q = 0.72020202\n",
      "best with loop for x = 0.72919192 is -1.17073863 at q = 0.72919192\n",
      "best with loop for x = 0.73818182 is -1.17320819 at q = 0.73818182\n",
      "best with loop for x = 0.74717172 is -1.17568819 at q = 0.74717172\n",
      "best with loop for x = 0.75616162 is -1.17817870 at q = 0.75616162\n",
      "best with loop for x = 0.76515152 is -1.18067979 at q = 0.76515152\n",
      "best with loop for x = 0.77414141 is -1.18319151 at q = 0.77414141\n",
      "best with loop for x = 0.78313131 is -1.18571394 at q = 0.78313131\n",
      "best with loop for x = 0.79212121 is -1.18824716 at q = 0.79212121\n",
      "best with loop for x = 0.80111111 is -1.19079121 at q = 0.80111111\n",
      "best with loop for x = 0.81010101 is -1.19334619 at q = 0.81010101\n",
      "best with loop for x = 0.81909091 is -1.19591215 at q = 0.81909091\n",
      "best with loop for x = 0.82808081 is -1.19848918 at q = 0.82808081\n",
      "best with loop for x = 0.83707071 is -1.20107733 at q = 0.83707071\n",
      "best with loop for x = 0.84606061 is -1.20367669 at q = 0.84606061\n",
      "best with loop for x = 0.85505051 is -1.20628732 at q = 0.85505051\n",
      "best with loop for x = 0.86404040 is -1.20890930 at q = 0.86404040\n",
      "best with loop for x = 0.87303030 is -1.21154270 at q = 0.87303030\n",
      "best with loop for x = 0.88202020 is -1.21418760 at q = 0.88202020\n",
      "best with loop for x = 0.89101010 is -1.21684407 at q = 0.89101010\n",
      "best with loop for x = 0.90000000 is -1.21951220 at q = 0.90000000\n"
     ]
    },
    {
     "data": {
      "image/png": "[encoded data removed]",
      "text/plain": [
       "<Figure size 432x288 with 1 Axes>"
      ]
     },
     "metadata": {
      "needs_background": "light"
     },
     "output_type": "display_data"
    }
   ],
   "source": [
    "# solving the model, can at a later stage be moved to .py file\n",
    "def u(z, v = -2):\n",
    "    return z**(1+v)/(1+v)\n",
    "\n",
    "def u_unins(x, y = 1, p = 0.2):\n",
    "    return p*u(y-x) + (1-p)*u(y)\n",
    " \n",
    "    \n",
    "# try to do it with fixed x=0.5\n",
    "def u_ins(q, x=0.5, y = 1, p = 0.2, v = -2):\n",
    "    return p*u(y-x+q-p*q) + (1-p)*u(y-p*q)\n",
    "\n",
    "\n",
    "# first try to optimize for given level of x = 0.5\n",
    "x=0.5\n",
    "# b. solution using a loop\n",
    "N = 100\n",
    "q_vec = np.linspace(0.01,x,N)\n",
    "u_vec = np.empty(N)\n",
    "\n",
    "u_best = -999 # initial maximum\n",
    "q_best = np.nan # not-a-number\n",
    "\n",
    "\n",
    "for i,q in enumerate(q_vec):\n",
    "    u_now = u_vec[i] = u_ins(q)\n",
    "    if u_now>u_best:\n",
    "        q_best=q\n",
    "        u_best=u_ins(q)\n",
    "        \n",
    "print(f'best with loop is           {u_best:.8f} at q = {q_best:.8f}')\n",
    "print(\"want to insure 100% of loss as risk averse\")\n",
    "\n",
    "\n",
    "# now optimize for different levels of x\n",
    "q_save = np.empty(100)\n",
    "x = np.linspace(0.01,0.9,100)\n",
    "N = 100\n",
    "for ind, x_i in enumerate(x):\n",
    "    q_vec = np.linspace(0.01,x_i,N)\n",
    "    u_vec = np.empty(N)\n",
    "    u_best = -999 # initial maximum\n",
    "    q_best = np.nan # not-a-number\n",
    "    for i,q in enumerate(q_vec):\n",
    "        u_now = u_vec[i] = u_ins(q, x=x_i)\n",
    "        if u_now>u_best:\n",
    "            q_best=q\n",
    "            u_best=u_ins(q, x=x_i)\n",
    "    print(f'best with loop for x = {x_i:.8f} is {u_best:.8f} at q = {q_best:.8f}')\n",
    "    q_save[ind]=q_best\n",
    "\n",
    "    \n",
    "    \n",
    "\n",
    "# figure\n",
    "import matplotlib.pyplot as plt\n",
    "fig = plt.figure() # dpi = dots-per-inch (resolution)\n",
    "ax = fig.add_subplot(1,1,1)\n",
    "\n",
    "ax.plot(x,q_save,ls='--',lw=2,color='black',label='q* depending on x')\n",
    "\n",
    "ax.set_xlabel('$x$')\n",
    "ax.set_ylabel('$q$')\n",
    "ax.grid(True)\n",
    "ax.legend(loc='upper center');"
   ]
  },
  {
   "cell_type": "markdown",
   "metadata": {},
   "source": [
    "# Question 2"
   ]
  },
  {
   "cell_type": "markdown",
   "metadata": {},
   "source": [
    "Explain your code and procedure"
   ]
  },
  {
   "cell_type": "code",
   "execution_count": 29,
   "metadata": {},
   "outputs": [
    {
     "name": "stdout",
     "output_type": "stream",
     "text": [
      "-1.3\n",
      "0.18105550493427564\n",
      "now we analyze multiple levels of q\n",
      "-1.3\n",
      "0.021919191919191918\n",
      "0.013182406086387797\n",
      "-1.3000003375406362\n"
     ]
    },
    {
     "data": {
      "image/png": "[encoded data removed]",
      "text/plain": [
       "<Figure size 432x288 with 1 Axes>"
      ]
     },
     "metadata": {
      "needs_background": "light"
     },
     "output_type": "display_data"
    }
   ],
   "source": [
    "# code\n",
    "\n",
    "\n",
    "# solving the model, can at a later stage be moved to .py file\n",
    "def u(z, v = -2):\n",
    "    return z**(1+v)/(1+v)\n",
    "\n",
    "def u_unins(x=0.6, y = 1, p = 0.2):\n",
    "    return p*u(y-x) + (1-p)*u(y)\n",
    " \n",
    "    \n",
    "# try to do it with fixed x=0.6\n",
    "def u_ins(q, pi, x=0.6, y = 1, p = 0.2):\n",
    "    return p*u(y-x+q-pi) + (1-p)*u(y-pi)\n",
    "\n",
    "\n",
    "print(u_unins())\n",
    "\n",
    "# first solve for fixed q = 0.4 and then later loop over possible values of q\n",
    "def choose(pi):\n",
    "    return np.absolute(u_ins(pi=pi, q=0.4)-u_unins())\n",
    "\n",
    "# b. call solver\n",
    "sol = optimize.minimize_scalar(\n",
    "    choose,\n",
    "    method='bounded',\n",
    "    bounds=(0,0.6)) #we do not allow to pay more than you are insured for maximally\n",
    "\n",
    "pi = sol.x\n",
    "print(pi)\n",
    "print(\"now we analyze multiple levels of q\")\n",
    "\n",
    "\n",
    "# now do for all q between 0.01 and 0.6\n",
    "pi_save = np.empty(100)\n",
    "q_vec = np.linspace(0.01, 0.6, 100)\n",
    "for i, q in enumerate(q_vec):\n",
    "    #define what we want to minimize\n",
    "    def choose(pi):\n",
    "        return np.absolute(u_ins(pi=pi, q=q)-u_unins())\n",
    "    #call solver\n",
    "    sol = optimize.minimize_scalar(\n",
    "        choose,\n",
    "        method='bounded',\n",
    "        bounds=(0,0.6)) #we do not allow to pay more than you maximally are insured for (=max claim)\n",
    "    pi=sol.x\n",
    "    pi_save[i]=pi\n",
    "\n",
    "\n",
    "    \n",
    "# figure\n",
    "import matplotlib.pyplot as plt\n",
    "fig = plt.figure() # dpi = dots-per-inch (resolution)\n",
    "ax = fig.add_subplot(1,1,1)\n",
    "\n",
    "ax.plot(q_vec,pi_save,ls='--',lw=2,color='black',label='pi depending on q')\n",
    "\n",
    "ax.set_xlabel('$q$')\n",
    "ax.set_ylabel('$pi$')\n",
    "ax.grid(True)\n",
    "ax.legend(loc='upper center')\n",
    "\n",
    "\n",
    "print(u_unins())\n",
    "print(q_vec[2])\n",
    "print(pi_save[2])\n",
    "print(u_ins(q=q_vec[7], pi=pi_save[7]))\n",
    "\n",
    "\n",
    "\n"
   ]
  },
  {
   "cell_type": "markdown",
   "metadata": {},
   "source": [
    "# Question 3"
   ]
  },
  {
   "cell_type": "markdown",
   "metadata": {},
   "source": [
    "Explain your code and procedure"
   ]
  },
  {
   "cell_type": "code",
   "execution_count": 3,
   "metadata": {},
   "outputs": [],
   "source": [
    "# code example to add"
   ]
  },
  {
   "cell_type": "markdown",
   "metadata": {},
   "source": [
    "ADD CONCISE CONLUSION."
   ]
  }
 ],
 "metadata": {
  "kernelspec": {
   "display_name": "Python 3 (ipykernel)",
   "language": "python",
   "name": "python3"
  },
  "language_info": {
   "codemirror_mode": {
    "name": "ipython",
    "version": 3
   },
   "file_extension": ".py",
   "mimetype": "text/x-python",
   "name": "python",
   "nbconvert_exporter": "python",
   "pygments_lexer": "ipython3",
   "version": "3.9.7"
  },
  "toc-autonumbering": true
 },
 "nbformat": 4,
 "nbformat_minor": 4
}
