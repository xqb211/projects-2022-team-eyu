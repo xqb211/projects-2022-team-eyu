{
 "cells": [
  {
   "cell_type": "markdown",
   "metadata": {},
   "source": [
    "# Inaugural Project"
   ]
  },
  {
   "cell_type": "markdown",
   "metadata": {},
   "source": [
    "> **Note the following:** \n",
    "> 1. This is an example of how to structure your **inaugural project**.\n",
    "> 1. Remember the general advice on structuring and commenting your code from [lecture 5](https://numeconcopenhagen.netlify.com/lectures/Workflow_and_debugging).\n",
    "> 1. Remember this [guide](https://www.markdownguide.org/basic-syntax/) on markdown and (a bit of) latex.\n",
    "> 1. Turn on automatic numbering by clicking on the small icon on top of the table of contents in the left sidebar.\n",
    "> 1. The `inauguralproject.py` file includes a function which can be used multiple times in this notebook."
   ]
  },
  {
   "cell_type": "markdown",
   "metadata": {},
   "source": [
    "Imports and set magics:"
   ]
  },
  {
   "cell_type": "code",
   "execution_count": 1,
   "metadata": {},
   "outputs": [
    {
     "name": "stdout",
     "output_type": "stream",
     "text": [
      "hello world\n"
     ]
    }
   ],
   "source": [
    "import numpy as np\n",
    "\n",
    "# autoreload modules when code is run. Otherwise, python will not see recent changes. \n",
    "%load_ext autoreload\n",
    "%autoreload 2\n",
    "\n",
    "# Import your own code\n",
    "import inauguralproject"
   ]
  },
  {
   "cell_type": "markdown",
   "metadata": {},
   "source": [
    "# Question 1"
   ]
  },
  {
   "cell_type": "markdown",
   "metadata": {},
   "source": [
    "In this question we are asked to find the optimal coverage amount of the agent.\n",
    "We do this following this approach:\n",
    "- define the utility function of the agent\n",
    "- maximize the utility function with the given parametrization using loops\n",
    "    - problem: q* depends on x, so use for loop within for loop"
   ]
  },
  {
   "cell_type": "code",
   "execution_count": 9,
   "metadata": {},
   "outputs": [
    {
     "name": "stdout",
     "output_type": "stream",
     "text": [
      "best with loop is           -1.11111111 at q = 0.50000000\n",
      "want to insure 100% of loss as risk averse\n",
      "best with loop for x = 0.10000000 is -1.02040816 at q = 0.10000000\n",
      "best with loop for x = 0.20000000 is -1.04166667 at q = 0.20000000\n",
      "best with loop for x = 0.30000000 is -1.06382979 at q = 0.30000000\n",
      "best with loop for x = 0.40000000 is -1.08695652 at q = 0.40000000\n",
      "best with loop for x = 0.50000000 is -1.11111111 at q = 0.50000000\n",
      "best with loop for x = 0.60000000 is -1.13636364 at q = 0.60000000\n",
      "best with loop for x = 0.70000000 is -1.16279070 at q = 0.70000000\n",
      "best with loop for x = 0.80000000 is -1.19047619 at q = 0.80000000\n",
      "best with loop for x = 0.90000000 is -1.21951220 at q = 0.90000000\n"
     ]
    },
    {
     "data": {
      "image/png": "[encoded data removed]",
      "text/plain": [
       "<Figure size 432x288 with 1 Axes>"
      ]
     },
     "metadata": {
      "needs_background": "light"
     },
     "output_type": "display_data"
    }
   ],
   "source": [
    "# solving the model, can at a later stage be moved to .py file\n",
    "def u(z, v = -2):\n",
    "    return z**(1+v)/(1+v)\n",
    "\n",
    "def u_unins(x, y = 1, p = 0.2):\n",
    "    return p*u(y-x) + (1-p)*u(y)\n",
    " \n",
    "    \n",
    "# try to do it with fixed x=0.5\n",
    "def u_ins(q, x=0.5, y = 1, p = 0.2, v = -2):\n",
    "    return p*u(y-x+q-p*q) + (1-p)*u(y-p*q)\n",
    "\n",
    "\n",
    "# first try to optimize for given level of x = 0.5\n",
    "x=0.5\n",
    "# b. solution using a loop\n",
    "N = 100\n",
    "q_vec = np.linspace(0.1,x,N)\n",
    "u_vec = np.empty(N)\n",
    "\n",
    "u_best = -999 # initial maximum\n",
    "q_best = np.nan # not-a-number\n",
    "\n",
    "\n",
    "for i,q in enumerate(q_vec):\n",
    "    u_now = u_vec[i] = u_ins(q)\n",
    "    if u_now>u_best:\n",
    "        q_best=q\n",
    "        u_best=u_ins(q)\n",
    "        \n",
    "print(f'best with loop is           {u_best:.8f} at q = {q_best:.8f}')\n",
    "print(\"want to insure 100% of loss as risk averse\")\n",
    "\n",
    "\n",
    "# now optimize for different levels of x\n",
    "q_save = np.empty(9)\n",
    "x = np.linspace(0.1,0.9,9)\n",
    "N = 100\n",
    "for ind, x_i in enumerate(x):\n",
    "    q_vec = np.linspace(0.1,x_i,N)\n",
    "    u_vec = np.empty(N)\n",
    "    u_best = -999 # initial maximum\n",
    "    q_best = np.nan # not-a-number\n",
    "    for i,q in enumerate(q_vec):\n",
    "        u_now = u_vec[i] = u_ins(q, x=x_i)\n",
    "        if u_now>u_best:\n",
    "            q_best=q\n",
    "            u_best=u_ins(q, x=x_i)\n",
    "    print(f'best with loop for x = {x_i:.8f} is {u_best:.8f} at q = {q_best:.8f}')\n",
    "    q_save[ind]=q_best\n",
    "\n",
    "    \n",
    "    \n",
    "\n",
    "# figure\n",
    "import matplotlib.pyplot as plt\n",
    "fig = plt.figure() # dpi = dots-per-inch (resolution)\n",
    "ax = fig.add_subplot(1,1,1)\n",
    "\n",
    "ax.plot(x,q_save,ls='--',lw=2,color='black',label='q* depending on x')\n",
    "\n",
    "ax.set_xlabel('$x$')\n",
    "ax.set_ylabel('$q$')\n",
    "ax.grid(True)\n",
    "ax.legend(loc='upper center');"
   ]
  },
  {
   "cell_type": "markdown",
   "metadata": {},
   "source": [
    "# Question 2"
   ]
  },
  {
   "cell_type": "markdown",
   "metadata": {},
   "source": [
    "Explain your code and procedure"
   ]
  },
  {
   "cell_type": "code",
   "execution_count": 3,
   "metadata": {},
   "outputs": [],
   "source": [
    "# code"
   ]
  },
  {
   "cell_type": "markdown",
   "metadata": {},
   "source": [
    "# Question 3"
   ]
  },
  {
   "cell_type": "markdown",
   "metadata": {},
   "source": [
    "Explain your code and procedure"
   ]
  },
  {
   "cell_type": "code",
   "execution_count": 3,
   "metadata": {},
   "outputs": [],
   "source": [
    "# code example to add"
   ]
  },
  {
   "cell_type": "markdown",
   "metadata": {},
   "source": [
    "ADD CONCISE CONLUSION."
   ]
  }
 ],
 "metadata": {
  "kernelspec": {
   "display_name": "Python 3 (ipykernel)",
   "language": "python",
   "name": "python3"
  },
  "language_info": {
   "codemirror_mode": {
    "name": "ipython",
    "version": 3
   },
   "file_extension": ".py",
   "mimetype": "text/x-python",
   "name": "python",
   "nbconvert_exporter": "python",
   "pygments_lexer": "ipython3",
   "version": "3.9.7"
  },
  "toc-autonumbering": true
 },
 "nbformat": 4,
 "nbformat_minor": 4
}
